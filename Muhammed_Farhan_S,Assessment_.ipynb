{
  "nbformat": 4,
  "nbformat_minor": 0,
  "metadata": {
    "colab": {
      "provenance": []
    },
    "kernelspec": {
      "name": "python3",
      "display_name": "Python 3"
    },
    "language_info": {
      "name": "python"
    }
  },
  "cells": [
    {
      "cell_type": "code",
      "source": [
        "#Question1\n",
        "#Write the output of the following\n",
        "##k=[‘a’,’b’,’c’,’d’,’e’]\n",
        "###print(k[-1:-7:-1])\n",
        "\n",
        "\n",
        "Output=['e', 'd', 'c', 'b', 'a']"
      ],
      "metadata": {
        "id": "Y_cfbShIm0Vu"
      },
      "execution_count": null,
      "outputs": []
    },
    {
      "cell_type": "code",
      "source": [
        "#Question 2\n",
        "##2. Reverse a list using Python\n",
        "###list1 = [100, 200, 300, 400, 500]"
      ],
      "metadata": {
        "id": "y6UsWES0x3Hf"
      },
      "execution_count": null,
      "outputs": []
    },
    {
      "cell_type": "code",
      "source": [
        "list1 = [100,200,300,400,500]\n",
        "list1.reverse()\n",
        "print(list1)"
      ],
      "metadata": {
        "colab": {
          "base_uri": "https://localhost:8080/"
        },
        "id": "duXAD8e9yBgN",
        "outputId": "4f4e39cf-9c7a-4c93-ee22-48741bd75ecf"
      },
      "execution_count": 1,
      "outputs": [
        {
          "output_type": "stream",
          "name": "stdout",
          "text": [
            "[500, 400, 300, 200, 100]\n"
          ]
        }
      ]
    },
    {
      "cell_type": "code",
      "source": [
        "#Question3\n",
        "##Given two numbers, write a python code to find the maximum of these two numbers.\n",
        "###Sample input: a=2, b=4"
      ],
      "metadata": {
        "id": "Xv1NlNbayh_8"
      },
      "execution_count": null,
      "outputs": []
    },
    {
      "cell_type": "code",
      "source": [
        "a=2\n",
        "b=4\n",
        "Maximum=max(a,b)\n",
        "print(Maximum)"
      ],
      "metadata": {
        "colab": {
          "base_uri": "https://localhost:8080/"
        },
        "id": "19MXCz5EzDOA",
        "outputId": "d155300b-cfb7-49da-9ce3-de9d56bf4964"
      },
      "execution_count": 2,
      "outputs": [
        {
          "output_type": "stream",
          "name": "stdout",
          "text": [
            "4\n"
          ]
        }
      ]
    },
    {
      "cell_type": "code",
      "source": [
        "#Question 4\n",
        "##Write a python program to find the square of 5."
      ],
      "metadata": {
        "id": "ED490jw-zN9_"
      },
      "execution_count": null,
      "outputs": []
    },
    {
      "cell_type": "code",
      "source": [
        "a=5\n",
        "Square=(a**2)\n",
        "print(Square)"
      ],
      "metadata": {
        "colab": {
          "base_uri": "https://localhost:8080/"
        },
        "id": "kmtkgDRnzVrN",
        "outputId": "4f47697e-4f6a-4908-de34-71a0cbb45a06"
      },
      "execution_count": 3,
      "outputs": [
        {
          "output_type": "stream",
          "name": "stdout",
          "text": [
            "25\n"
          ]
        }
      ]
    },
    {
      "cell_type": "code",
      "source": [
        "#Question5\n",
        "##Write a python program to find the sum of all items in a dictionary\n",
        "###Input : {‘a’: 100, ‘b’:200, ‘c’:300}"
      ],
      "metadata": {
        "id": "-DKYCP0i0bQW"
      },
      "execution_count": null,
      "outputs": []
    },
    {
      "cell_type": "code",
      "source": [
        "Input={\"a\": 100, \"b\":200, \"c\":300}\n",
        "\n",
        "total= 0  \n",
        "\n",
        "for key, value in Input.items():\n",
        " \n",
        "  total += value\n",
        "\n",
        "print(total)  "
      ],
      "metadata": {
        "colab": {
          "base_uri": "https://localhost:8080/"
        },
        "id": "Cqt6FmnM0hJc",
        "outputId": "e9c07219-48df-46e8-ef32-16f32adba76a"
      },
      "execution_count": 16,
      "outputs": [
        {
          "output_type": "stream",
          "name": "stdout",
          "text": [
            "600\n"
          ]
        }
      ]
    },
    {
      "cell_type": "code",
      "source": [
        "#Question6\n",
        "#Write a python program to print the current year, month and day."
      ],
      "metadata": {
        "id": "Ny7yt8UNoXda"
      },
      "execution_count": null,
      "outputs": []
    },
    {
      "cell_type": "code",
      "source": [
        "year=2022\n",
        "mnth=12\n",
        "day=11\n",
        "print(year,mnth,day,sep='/')"
      ],
      "metadata": {
        "colab": {
          "base_uri": "https://localhost:8080/"
        },
        "id": "vlybNDIDoWuB",
        "outputId": "9f8294a0-bf14-48fb-ed9b-a4f4c0ad6b9b"
      },
      "execution_count": 179,
      "outputs": [
        {
          "output_type": "stream",
          "name": "stdout",
          "text": [
            "2022/12/11\n"
          ]
        }
      ]
    },
    {
      "cell_type": "code",
      "source": [
        "#Question7\n",
        "###Write a Python program to construct the following pattern, using a nested for loop."
      ],
      "metadata": {
        "id": "IcQHmxNz3Da0"
      },
      "execution_count": 178,
      "outputs": []
    },
    {
      "cell_type": "code",
      "source": [
        "a=int(input(\"enter the number \"))\n",
        "for i in range(1,a+1):\n",
        "  for j in range(1,i):\n",
        "    print('*',end='')\n",
        "  print()\n",
        "for i in range(a,0,-1):\n",
        "  for j in range(0,i):\n",
        "    print('*',end='')\n",
        "  print()"
      ],
      "metadata": {
        "colab": {
          "base_uri": "https://localhost:8080/"
        },
        "id": "qvx0Y5A-3GmX",
        "outputId": "e0fb7194-cd9b-49e2-d12f-948606d6b572"
      },
      "execution_count": 44,
      "outputs": [
        {
          "output_type": "stream",
          "name": "stdout",
          "text": [
            "enter the number5\n",
            "\n",
            "*\n",
            "**\n",
            "***\n",
            "****\n",
            "*****\n",
            "****\n",
            "***\n",
            "**\n",
            "*\n"
          ]
        }
      ]
    },
    {
      "cell_type": "code",
      "source": [
        "#Question10\n",
        "##Write a python function to calculate the factorial of a number (a non negative integer). The function accepts the number as an argument."
      ],
      "metadata": {
        "id": "UTjR3RZfpoDB"
      },
      "execution_count": null,
      "outputs": []
    },
    {
      "cell_type": "code",
      "source": [
        "\n",
        "def facto(num1):\n",
        "    emp=1\n",
        "    for i in range(1,num1+1):\n",
        "        emp=i*emp\n",
        "    return(emp)\n",
        "    \n",
        "num1=int(input('Enter the first number '))\n",
        "fact3=facto(num1)\n",
        "print(fact3)\n",
        "\n"
      ],
      "metadata": {
        "colab": {
          "base_uri": "https://localhost:8080/"
        },
        "id": "eTYo_bo2pm-c",
        "outputId": "7e973df0-bf30-42a4-dcc3-2be5b6626afd"
      },
      "execution_count": 184,
      "outputs": [
        {
          "output_type": "stream",
          "name": "stdout",
          "text": [
            "Enter the first number 3\n",
            "6\n"
          ]
        }
      ]
    },
    {
      "cell_type": "code",
      "source": [
        "#Question9\n",
        "##Display all duplicate items from a list given:"
      ],
      "metadata": {
        "id": "tsymiA644dzB"
      },
      "execution_count": 180,
      "outputs": []
    },
    {
      "cell_type": "code",
      "source": [
        "\n",
        "list1=[10, 20, 60, 30, 20, 40, 30, 60, 70, 80]\n",
        "length1 = len(list1)\n",
        "repeated = []\n",
        "for i in range(length1):\n",
        "  k = i + 1\n",
        "  for j in range(k, length1):\n",
        "      if list1[i] == list1[j] and list1[i] not in repeated:\n",
        "        repeated.append(list1[i])\n",
        " \n",
        "print(repeated)\n",
        "     "
      ],
      "metadata": {
        "colab": {
          "base_uri": "https://localhost:8080/"
        },
        "id": "4twN20ipBdeN",
        "outputId": "559037db-0d04-4ebf-ddab-ece5f231afd1"
      },
      "execution_count": 67,
      "outputs": [
        {
          "output_type": "stream",
          "name": "stdout",
          "text": [
            "[20, 60, 30]\n"
          ]
        }
      ]
    },
    {
      "cell_type": "code",
      "source": [
        "#Question10\n",
        "###Write a program to accept a string from the user and display characters that are present at an even index number."
      ],
      "metadata": {
        "id": "6wRvj5u9GUN7"
      },
      "execution_count": null,
      "outputs": []
    },
    {
      "cell_type": "code",
      "source": [
        "User_in = input('Enter a string: ')\n",
        "\n",
        "even = []\n",
        "\n",
        "for i in range(len(User_in)):\n",
        "    if (i+1) % 2 == 0:\n",
        "        even.append(User_in[i])\n",
        "\n",
        "print('Even:{}'.format(even))"
      ],
      "metadata": {
        "colab": {
          "base_uri": "https://localhost:8080/"
        },
        "id": "zCCfD81RGcM7",
        "outputId": "3632d249-b930-4604-e9b1-f14414f701d3"
      },
      "execution_count": 76,
      "outputs": [
        {
          "output_type": "stream",
          "name": "stdout",
          "text": [
            "Enter a string: farhan\n",
            "Even:['a', 'h', 'n']\n"
          ]
        }
      ]
    },
    {
      "cell_type": "code",
      "source": [
        "#Question12\n",
        "##Modify the element of a nested list inside the following list:\n",
        "##Sample input : list1 = [5, [10, 15, [20, 25, [30, 35], 40], 45], 50]\n",
        "##Change the element 35 to 3500"
      ],
      "metadata": {
        "id": "N-IsyyJaKmki"
      },
      "execution_count": null,
      "outputs": []
    },
    {
      "cell_type": "code",
      "source": [
        "list1=[5,[10,15,[20,25,[30,35],40],45],50]\n",
        "\n",
        "list1[-2][-2][-2][-1]=('3500')\n",
        "\n",
        "print(list1)\n"
      ],
      "metadata": {
        "colab": {
          "base_uri": "https://localhost:8080/"
        },
        "id": "rdEK7zJuKwzU",
        "outputId": "1850cb3e-2f6f-4064-b4d2-53e44ecc4e7d"
      },
      "execution_count": 103,
      "outputs": [
        {
          "output_type": "stream",
          "name": "stdout",
          "text": [
            "[5, [10, 15, [20, 25, [30, '3500'], 40], 45], 50]\n"
          ]
        }
      ]
    },
    {
      "cell_type": "code",
      "source": [
        "#Question13\n",
        "##Write a while loop to display only alphabets from a string."
      ],
      "metadata": {
        "id": "oRX7AQuxmvG-"
      },
      "execution_count": null,
      "outputs": []
    },
    {
      "cell_type": "code",
      "source": [
        "\n",
        "string = input(\"Enter a string: \")\n",
        "\n",
        "\n",
        "alpha = \"\"\n",
        "\n",
        "\n",
        "for char in string:\n",
        "  if char.isalpha():\n",
        "    alpha += char\n",
        "\n",
        "\n",
        "print(alpha)"
      ],
      "metadata": {
        "colab": {
          "base_uri": "https://localhost:8080/"
        },
        "id": "5cbfXbLLmNli",
        "outputId": "86854d06-6ef1-4bf1-8226-8932f79d3ecb"
      },
      "execution_count": 187,
      "outputs": [
        {
          "output_type": "stream",
          "name": "stdout",
          "text": [
            "Enter a string: citty123\n",
            "citty\n"
          ]
        }
      ]
    },
    {
      "cell_type": "code",
      "source": [
        "#Question15\n",
        "##Python program to convert the temperature in degree centigrade to Fahrenheit and vice versa."
      ],
      "metadata": {
        "id": "c_XkLSqgO84x"
      },
      "execution_count": null,
      "outputs": []
    },
    {
      "cell_type": "code",
      "source": [
        "Ask=(input(\"Type C to convert to centigrade / Type F to convert to Fahrenhiet \"))\n",
        "\n",
        "if Ask.upper()=='F':\n",
        "  Temp_F=int(input('Temp in Centigrade '))\n",
        "  print((Temp_F-32)/1.8)\n",
        "elif Ask.upper()=='C':\n",
        "  Temp_c=int(input('Temp in Fahrenhiet '))\n",
        "  print((Temp_c*1.8)+32)\n",
        "\n",
        "  "
      ],
      "metadata": {
        "colab": {
          "base_uri": "https://localhost:8080/"
        },
        "id": "5cFV6UsySJQ2",
        "outputId": "3b5f9920-58a8-4c50-d82d-330c14c9e81f"
      },
      "execution_count": 171,
      "outputs": [
        {
          "output_type": "stream",
          "name": "stdout",
          "text": [
            "C to convert to centigrade / F to convert to Fahrenhietc\n",
            "Temp in Fahrenhiet1\n",
            "33.8\n"
          ]
        }
      ]
    }
  ]
}